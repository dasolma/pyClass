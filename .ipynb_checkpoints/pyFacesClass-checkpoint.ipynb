{
 "metadata": {
  "name": "",
  "signature": "sha256:5d3ff93e29fccfb08f1bef8ddd361ad13c68c6a4e7daa9cd9ed80b4c0825da2b"
 },
 "nbformat": 3,
 "nbformat_minor": 0,
 "worksheets": [
  {
   "cells": [
    {
     "cell_type": "code",
     "collapsed": false,
     "input": [
      "from sklearn.datasets import fetch_olivetti_faces\n",
      "faces = fetch_olivetti_faces()\n",
      "\n",
      "from sklearn.cross_validation import train_test_split\n",
      "faces_train, faces_test, y_train, y_test = train_test_split(faces.data,faces.target,test_size = 0.25)\n"
     ],
     "language": "python",
     "metadata": {},
     "outputs": [
      {
       "metadata": {},
       "output_type": "pyout",
       "prompt_number": 19,
       "text": [
        "array([ 3, 36, 39, 36,  3, 28,  9, 29,  5, 11, 27, 29, 21, 33,  1,  4, 29,\n",
        "       30, 33, 27, 37,  0,  4,  5, 32,  0,  6, 37, 16, 37, 12, 15,  1, 10,\n",
        "        5, 39, 29,  8, 30, 17, 18,  7, 33,  1, 15, 34, 31, 11, 27, 13, 10,\n",
        "        2, 14, 21,  9, 31,  4, 23, 34, 32, 27, 38, 28, 19,  1, 19, 21, 35,\n",
        "       34, 12, 32, 28, 18, 33,  1,  8, 22,  7, 21, 11,  9,  1, 31, 25, 10,\n",
        "        6, 17, 13,  7,  6, 22, 14, 12, 24, 31,  5,  8, 37, 33, 37])"
       ]
      }
     ],
     "prompt_number": 19
    },
    {
     "cell_type": "code",
     "collapsed": false,
     "input": [
      "from sklearn.pipeline import Pipeline\n",
      "from sklearn.linear_model import SGDClassifier\n",
      "from sklearn.preprocessing import StandardScaler\n",
      "from sklearn import cross_validation\n",
      "from sklearn import metrics\n",
      "\n",
      "modelo = Pipeline([ ('modelolineal', SGDClassifier())])\n",
      "modelo.fit(faces_train, y_train)\n",
      "predicted = cross_validation.cross_val_predict(modelo, faces.data,\n",
      "                                                faces.target, cv=5)\n",
      "metrics.accuracy_score(faces.target, predicted)"
     ],
     "language": "python",
     "metadata": {},
     "outputs": [
      {
       "metadata": {},
       "output_type": "pyout",
       "prompt_number": 25,
       "text": [
        "0.4375"
       ]
      }
     ],
     "prompt_number": 25
    },
    {
     "cell_type": "code",
     "collapsed": false,
     "input": [
      "#with noramlization\n",
      "modelo = Pipeline([ ('normalizador', StandardScaler()), ('modelolineal', SGDClassifier())])\n",
      "modelo.fit(faces_train, y_train)\n",
      "predicted = cross_validation.cross_val_predict(modelo, faces.data,\n",
      "                                                faces.target, cv=5)\n",
      "metrics.accuracy_score(faces.target, predicted)"
     ],
     "language": "python",
     "metadata": {},
     "outputs": [
      {
       "metadata": {},
       "output_type": "pyout",
       "prompt_number": 26,
       "text": [
        "0.65749999999999997"
       ]
      }
     ],
     "prompt_number": 26
    },
    {
     "cell_type": "code",
     "collapsed": false,
     "input": [
      "#with noramlization\n",
      "modelo = Pipeline([ ('normalizador', StandardScaler()), ('modelolineal', SGDClassifier(average=True))])\n",
      "modelo.fit(faces_train, y_train)\n",
      "predicted = cross_validation.cross_val_predict(modelo, faces.data,\n",
      "                                                faces.target, cv=5)\n",
      "metrics.accuracy_score(faces.target, predicted)"
     ],
     "language": "python",
     "metadata": {},
     "outputs": [
      {
       "metadata": {},
       "output_type": "pyout",
       "prompt_number": 62,
       "text": [
        "0.9325"
       ]
      }
     ],
     "prompt_number": 62
    },
    {
     "cell_type": "code",
     "collapsed": false,
     "input": [
      "from sklearn.linear_model import Perceptron\n",
      "\n",
      "modelo = Pipeline([ ('normalizador', StandardScaler()), ('modelolineal', Perceptron())])\n",
      "modelo.fit(faces_train, y_train)\n",
      "predicted = cross_validation.cross_val_predict(modelo, faces.data,\n",
      "                                                faces.target, cv=5)\n",
      "metrics.accuracy_score(faces.target, predicted)"
     ],
     "language": "python",
     "metadata": {},
     "outputs": [
      {
       "metadata": {},
       "output_type": "pyout",
       "prompt_number": 53,
       "text": [
        "0.83750000000000002"
       ]
      }
     ],
     "prompt_number": 53
    },
    {
     "cell_type": "code",
     "collapsed": false,
     "input": [
      "from sklearn.ensemble import RandomForestClassifier\n",
      "\n",
      "modelo = Pipeline([ ('modelolineal', RandomForestClassifier())])\n",
      "modelo.fit(faces_train, y_train)\n",
      "predicted = cross_validation.cross_val_predict(modelo, faces.data,\n",
      "                                                faces.target, cv=5)\n",
      "metrics.accuracy_score(faces.target, predicted)"
     ],
     "language": "python",
     "metadata": {},
     "outputs": [
      {
       "metadata": {},
       "output_type": "pyout",
       "prompt_number": 39,
       "text": [
        "0.81999999999999995"
       ]
      }
     ],
     "prompt_number": 39
    },
    {
     "cell_type": "code",
     "collapsed": false,
     "input": [
      "from sklearn.ensemble import ExtraTreesClassifier\n",
      "\n",
      "modelo = Pipeline([ ('modelolineal', ExtraTreesClassifier())])\n",
      "modelo.fit(faces_train, y_train)\n",
      "predicted = cross_validation.cross_val_predict(modelo, faces.data,\n",
      "                                                faces.target, cv=5)\n",
      "metrics.accuracy_score(faces.target, predicted)"
     ],
     "language": "python",
     "metadata": {},
     "outputs": [
      {
       "metadata": {},
       "output_type": "pyout",
       "prompt_number": 61,
       "text": [
        "0.86250000000000004"
       ]
      }
     ],
     "prompt_number": 61
    },
    {
     "cell_type": "code",
     "collapsed": false,
     "input": [
      "from sklearn.neighbors import KNeighborsClassifier, RadiusNeighborsClassifier\n",
      "\n",
      "modelo = Pipeline([ ('modelolineal', KNeighborsClassifier())])\n",
      "modelo.fit(faces_train, y_train)\n",
      "predicted = cross_validation.cross_val_predict(modelo, faces.data,\n",
      "                                                faces.target, cv=5)\n",
      "metrics.accuracy_score(faces.target, predicted)"
     ],
     "language": "python",
     "metadata": {},
     "outputs": [
      {
       "metadata": {},
       "output_type": "pyout",
       "prompt_number": 57,
       "text": [
        "0.84999999999999998"
       ]
      }
     ],
     "prompt_number": 57
    },
    {
     "cell_type": "code",
     "collapsed": false,
     "input": [
      "from sklearn.naive_bayes import MultinomialNB, BernoulliNB\n",
      "\n",
      "modelo = Pipeline([ ('modelolineal', MultinomialNB())])\n",
      "modelo.fit(faces_train, y_train)\n",
      "predicted = cross_validation.cross_val_predict(modelo, faces.data,\n",
      "                                                faces.target, cv=5)\n",
      "metrics.accuracy_score(faces.target, predicted)"
     ],
     "language": "python",
     "metadata": {},
     "outputs": [
      {
       "metadata": {},
       "output_type": "pyout",
       "prompt_number": 45,
       "text": [
        "0.83250000000000002"
       ]
      }
     ],
     "prompt_number": 45
    },
    {
     "cell_type": "code",
     "collapsed": false,
     "input": [
      "n_eigenfaces = 121\n",
      "\n",
      "modelo = Pipeline([ ('modelolineal', RandomizedPCA(n_components=n_eigenfaces, whiten=True))])\n",
      "modelo.fit(faces_train, y_train)\n",
      "predicted = cross_validation.cross_val_predict(modelo, faces.data,\n",
      "                                                faces.target, cv=5)\n",
      "metrics.accuracy_score(faces.target, predicted)"
     ],
     "language": "python",
     "metadata": {},
     "outputs": []
    }
   ],
   "metadata": {}
  }
 ]
}