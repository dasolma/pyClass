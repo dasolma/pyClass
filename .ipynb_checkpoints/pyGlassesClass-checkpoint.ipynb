{
 "metadata": {
  "name": "",
  "signature": "sha256:2b8c7191c12e2d9d79d57efd04e89d4ff90b5f903c7e3a40dd2925920c0f654b"
 },
 "nbformat": 3,
 "nbformat_minor": 0,
 "worksheets": []
}