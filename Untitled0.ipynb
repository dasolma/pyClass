{
 "metadata": {
  "name": "",
  "signature": "sha256:e5657dfecfcedc2dbbc4469625acd1f24b2b0e7c1c2d023ff11440e52e778a28"
 },
 "nbformat": 3,
 "nbformat_minor": 0,
 "worksheets": [
  {
   "cells": [
    {
     "cell_type": "code",
     "collapsed": false,
     "input": [
      "import numpy as np\n",
      "import urllib\n",
      "import pandas as pd\n",
      "url = \"http://biostat.mc.vanderbilt.edu/wiki/pub/Main/DataSets/titanic3.csv\"\n",
      "# download the file\n",
      "raw_data = urllib.urlopen(url)\n",
      "print raw_data\n",
      "# load the CSV file as a numpy matrix\n",
      "dataset = pd.read_csv(raw_data, delimiter=\",\", \n",
      "                     dtype={'names': (\"pclass\",\"survived\",\"name\",\"sex\",\"age\",\"sibsp\",\"parch\",\"ticket\",\"fare\",\"cabin\",\"embarked\",\"boat\",\"body\",\"home.dest\"),\n",
      "                             'formats': ('i4', 'i4', 'S100', 'S100', 'S100', 'S100', 'f4', 'f4', 'S100',  'S100', 'S100', 'S100', 'S100', 'S100')})\n",
      "\n"
     ],
     "language": "python",
     "metadata": {},
     "outputs": [
      {
       "output_type": "stream",
       "stream": "stdout",
       "text": [
        "<addinfourl at 140629631015680 whose fp = <socket._fileobject object at 0x7fe6e33497d0>>\n"
       ]
      }
     ],
     "prompt_number": 55
    },
    {
     "cell_type": "code",
     "collapsed": false,
     "input": [
      "# separate the data from the target attributes    \n",
      "X = np.array(dataset[[\"pclass\",\"sex\",\"age\"]]).transpose()\n",
      "Y = np.array(dataset.survived)\n",
      "\n",
      "X[1] = [0 if x == 'female' else 1 for x in X[1]]\n",
      "\n",
      "   "
     ],
     "language": "python",
     "metadata": {},
     "outputs": [
      {
       "metadata": {},
       "output_type": "pyout",
       "prompt_number": 92,
       "text": [
        "array([[1, 1, 1, ..., 3, 3, 3],\n",
        "       [0, 1, 0, ..., 1, 1, 1],\n",
        "       [29.0, 0.92, 2.0, ..., 26.5, 27.0, 29.0]], dtype=object)"
       ]
      }
     ],
     "prompt_number": 92
    },
    {
     "cell_type": "code",
     "collapsed": false,
     "input": [],
     "language": "python",
     "metadata": {},
     "outputs": []
    }
   ],
   "metadata": {}
  }
 ]
}