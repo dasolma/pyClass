{
 "metadata": {
  "name": "",
  "signature": "sha256:8e00d661b5b8e830b2ded2b82b39ee527f8ed249a732c622ef3fc76dadb0ba0c"
 },
 "nbformat": 3,
 "nbformat_minor": 0,
 "worksheets": [
  {
   "cells": [
    {
     "cell_type": "code",
     "collapsed": false,
     "input": [
      "from sklearn.datasets import fetch_olivetti_faces\n",
      "faces = fetch_olivetti_faces()\n",
      "\n",
      "from sklearn.cross_validation import train_test_split\n",
      "faces_train, faces_test, y_train, y_test = train_test_split(faces.data,faces.target,test_size = 0.25)\n"
     ],
     "language": "python",
     "metadata": {},
     "outputs": [
      {
       "metadata": {},
       "output_type": "pyout",
       "prompt_number": 19,
       "text": [
        "array([ 3, 36, 39, 36,  3, 28,  9, 29,  5, 11, 27, 29, 21, 33,  1,  4, 29,\n",
        "       30, 33, 27, 37,  0,  4,  5, 32,  0,  6, 37, 16, 37, 12, 15,  1, 10,\n",
        "        5, 39, 29,  8, 30, 17, 18,  7, 33,  1, 15, 34, 31, 11, 27, 13, 10,\n",
        "        2, 14, 21,  9, 31,  4, 23, 34, 32, 27, 38, 28, 19,  1, 19, 21, 35,\n",
        "       34, 12, 32, 28, 18, 33,  1,  8, 22,  7, 21, 11,  9,  1, 31, 25, 10,\n",
        "        6, 17, 13,  7,  6, 22, 14, 12, 24, 31,  5,  8, 37, 33, 37])"
       ]
      }
     ],
     "prompt_number": 19
    },
    {
     "cell_type": "code",
     "collapsed": false,
     "input": [
      "def predict(x, y, pipeline):\n",
      "    from sklearn.pipeline import Pipeline\n",
      "    from sklearn import cross_validation\n",
      "    from sklearn import metrics\n",
      "\n",
      "    modelo = Pipeline(pipeline)\n",
      "    predicted = cross_validation.cross_val_predict(modelo, x, y, cv=5)\n",
      "    print metrics.accuracy_score(y, predicted)\n",
      "    \n",
      "X = faces.data\n",
      "Y = faces.target"
     ],
     "language": "python",
     "metadata": {},
     "outputs": [],
     "prompt_number": 119
    },
    {
     "cell_type": "code",
     "collapsed": false,
     "input": [
      "from sklearn.linear_model import SGDClassifier\n",
      "from sklearn.preprocessing import StandardScaler\n",
      "\n",
      "\n",
      "predict(X,Y, [ ('modelolineal', SGDClassifier())])\n"
     ],
     "language": "python",
     "metadata": {},
     "outputs": [
      {
       "output_type": "stream",
       "stream": "stdout",
       "text": [
        "0.52\n"
       ]
      }
     ],
     "prompt_number": 120
    },
    {
     "cell_type": "code",
     "collapsed": false,
     "input": [
      "#with noramlization\n",
      "predict(X,Y,[ ('normalizador', StandardScaler()), ('modelolineal', SGDClassifier())])\n"
     ],
     "language": "python",
     "metadata": {},
     "outputs": [
      {
       "output_type": "stream",
       "stream": "stdout",
       "text": [
        "0.6575\n"
       ]
      }
     ],
     "prompt_number": 121
    },
    {
     "cell_type": "code",
     "collapsed": false,
     "input": [
      "#with noramlization\n",
      "predict(X,Y,[ ('normalizador', StandardScaler()), ('modelolineal', SGDClassifier(average=True))])\n"
     ],
     "language": "python",
     "metadata": {},
     "outputs": [
      {
       "output_type": "stream",
       "stream": "stdout",
       "text": [
        "0.925\n"
       ]
      }
     ],
     "prompt_number": 122
    },
    {
     "cell_type": "code",
     "collapsed": false,
     "input": [
      "from sklearn.linear_model import Perceptron\n",
      "\n",
      "modelo = Pipeline([ ('normalizador', StandardScaler()), ('modelolineal', Perceptron())])\n",
      "modelo.fit(faces_train, y_train)\n",
      "predicted = cross_validation.cross_val_predict(modelo, faces.data,\n",
      "                                                faces.target, cv=5)\n",
      "metrics.accuracy_score(faces.target, predicted)"
     ],
     "language": "python",
     "metadata": {},
     "outputs": [
      {
       "metadata": {},
       "output_type": "pyout",
       "prompt_number": 53,
       "text": [
        "0.83750000000000002"
       ]
      }
     ],
     "prompt_number": 53
    },
    {
     "cell_type": "code",
     "collapsed": false,
     "input": [
      "from sklearn.ensemble import RandomForestClassifier\n",
      "\n",
      "modelo = Pipeline([ ('modelolineal', RandomForestClassifier())])\n",
      "modelo.fit(faces_train, y_train)\n",
      "predicted = cross_validation.cross_val_predict(modelo, faces.data,\n",
      "                                                faces.target, cv=5)\n",
      "metrics.accuracy_score(faces.target, predicted)"
     ],
     "language": "python",
     "metadata": {},
     "outputs": [
      {
       "metadata": {},
       "output_type": "pyout",
       "prompt_number": 39,
       "text": [
        "0.81999999999999995"
       ]
      }
     ],
     "prompt_number": 39
    },
    {
     "cell_type": "code",
     "collapsed": false,
     "input": [
      "from sklearn.ensemble import ExtraTreesClassifier\n",
      "\n",
      "modelo = Pipeline([ ('modelolineal', ExtraTreesClassifier())])\n",
      "modelo.fit(faces_train, y_train)\n",
      "predicted = cross_validation.cross_val_predict(modelo, faces.data,\n",
      "                                                faces.target, cv=5)\n",
      "metrics.accuracy_score(faces.target, predicted)"
     ],
     "language": "python",
     "metadata": {},
     "outputs": [
      {
       "metadata": {},
       "output_type": "pyout",
       "prompt_number": 61,
       "text": [
        "0.86250000000000004"
       ]
      }
     ],
     "prompt_number": 61
    },
    {
     "cell_type": "code",
     "collapsed": false,
     "input": [
      "from sklearn.neighbors import KNeighborsClassifier, RadiusNeighborsClassifier\n",
      "\n",
      "modelo = Pipeline([ ('normalizador', StandardScaler()),('modelolineal', KNeighborsClassifier())])\n",
      "modelo.fit(faces_train, y_train)\n",
      "predicted = cross_validation.cross_val_predict(modelo, faces.data,\n",
      "                                                faces.target, cv=5)\n",
      "metrics.accuracy_score(faces.target, predicted)"
     ],
     "language": "python",
     "metadata": {},
     "outputs": [
      {
       "metadata": {},
       "output_type": "pyout",
       "prompt_number": 87,
       "text": [
        "0.82250000000000001"
       ]
      }
     ],
     "prompt_number": 87
    },
    {
     "cell_type": "code",
     "collapsed": false,
     "input": [
      "from sklearn.naive_bayes import MultinomialNB, BernoulliNB\n",
      "\n",
      "modelo = Pipeline([ ('modelolineal', MultinomialNB())])\n",
      "modelo.fit(faces_train, y_train)\n",
      "predicted = cross_validation.cross_val_predict(modelo, faces.data,\n",
      "                                                faces.target, cv=5)\n",
      "metrics.accuracy_score(faces.target, predicted)"
     ],
     "language": "python",
     "metadata": {},
     "outputs": [
      {
       "metadata": {},
       "output_type": "pyout",
       "prompt_number": 45,
       "text": [
        "0.83250000000000002"
       ]
      }
     ],
     "prompt_number": 45
    },
    {
     "cell_type": "code",
     "collapsed": false,
     "input": [
      "from sklearn.decomposition import RandomizedPCA\n",
      "n_eigenfaces = 25\n",
      "\n",
      "pca = RandomizedPCA(n_components=n_eigenfaces, whiten=True)\n",
      "features = pca.fit_transform(faces.data)\n",
      "\n",
      "modelo = Pipeline([ ('modelolineal', KNeighborsClassifier())])\n",
      "predicted = cross_validation.cross_val_predict(modelo, features,\n",
      "                                                faces.target, cv=5)\n",
      "metrics.accuracy_score(faces.target, predicted)"
     ],
     "language": "python",
     "metadata": {},
     "outputs": [
      {
       "metadata": {},
       "output_type": "pyout",
       "prompt_number": 95,
       "text": [
        "0.90249999999999997"
       ]
      }
     ],
     "prompt_number": 95
    },
    {
     "cell_type": "code",
     "collapsed": false,
     "input": [
      "#with noramlization\n",
      "modelo = Pipeline([ ('normalizador', StandardScaler()), ('modelolineal', SGDClassifier(average=True))])\n",
      "predicted = cross_validation.cross_val_predict(modelo, features,\n",
      "                                                faces.target, cv=10)\n",
      "metrics.accuracy_score(faces.target, predicted)"
     ],
     "language": "python",
     "metadata": {},
     "outputs": [
      {
       "metadata": {},
       "output_type": "pyout",
       "prompt_number": 113,
       "text": [
        "0.92500000000000004"
       ]
      }
     ],
     "prompt_number": 113
    },
    {
     "cell_type": "code",
     "collapsed": false,
     "input": [],
     "language": "python",
     "metadata": {},
     "outputs": []
    }
   ],
   "metadata": {}
  }
 ]
}