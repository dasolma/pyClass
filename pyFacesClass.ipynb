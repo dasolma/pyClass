{
 "metadata": {
  "name": "",
  "signature": "sha256:b91e0277ef6a4a4788f7d4e98d1a7952c3d945e9b8ffad7f6eb43254fffbabeb"
 },
 "nbformat": 3,
 "nbformat_minor": 0,
 "worksheets": [
  {
   "cells": [
    {
     "cell_type": "code",
     "collapsed": false,
     "input": [
      "from sklearn.datasets import fetch_olivetti_faces\n",
      "faces = fetch_olivetti_faces()\n",
      "\n",
      "from sklearn.cross_validation import train_test_split\n",
      "faces_train, faces_test, y_train, y_test = train_test_split(faces.data,faces.target,test_size = 0.25)\n"
     ],
     "language": "python",
     "metadata": {},
     "outputs": [],
     "prompt_number": 135
    },
    {
     "cell_type": "code",
     "collapsed": false,
     "input": [
      "def predict(x, y, pipeline, cv=5):\n",
      "    from sklearn.pipeline import Pipeline\n",
      "    from sklearn import cross_validation\n",
      "    from sklearn import metrics\n",
      "\n",
      "    model = Pipeline(pipeline)\n",
      "    predicted = cross_validation.cross_val_predict(model, x, y, cv=cv)\n",
      "    print metrics.accuracy_score(y, predicted)\n",
      "    \n",
      "    return model\n",
      "    \n",
      "X = faces.data\n",
      "Y = faces.target\n",
      "\n",
      "from sklearn.cross_validation import train_test_split\n",
      "X_train, X_test, y_train, y_test = train_test_split(X,Y,test_size = 0.25, random_state=33)"
     ],
     "language": "python",
     "metadata": {},
     "outputs": [],
     "prompt_number": 160
    },
    {
     "cell_type": "code",
     "collapsed": false,
     "input": [
      "from sklearn.linear_model import SGDClassifier\n",
      "from sklearn.preprocessing import StandardScaler\n",
      "\n",
      "\n",
      "model = predict(X,Y, [ ('modelolineal', SGDClassifier())], cv=5)\n"
     ],
     "language": "python",
     "metadata": {},
     "outputs": [
      {
       "output_type": "stream",
       "stream": "stdout",
       "text": [
        "0.4075\n"
       ]
      }
     ],
     "prompt_number": 142
    },
    {
     "cell_type": "code",
     "collapsed": false,
     "input": [
      "#with noramlization\n",
      "model = predict(X,Y,[ ('normalizador', StandardScaler()), ('modelolineal', SGDClassifier())])\n"
     ],
     "language": "python",
     "metadata": {},
     "outputs": [
      {
       "output_type": "stream",
       "stream": "stdout",
       "text": [
        "0.68\n"
       ]
      }
     ],
     "prompt_number": 143
    },
    {
     "cell_type": "code",
     "collapsed": false,
     "input": [
      "#with noramlization\n",
      "model = predict(X,Y,[ ('normalizador', StandardScaler()), ('modelolineal', SGDClassifier(average=True))], cv=5)\n"
     ],
     "language": "python",
     "metadata": {},
     "outputs": [
      {
       "output_type": "stream",
       "stream": "stdout",
       "text": [
        "0.9275\n"
       ]
      }
     ],
     "prompt_number": 159
    },
    {
     "cell_type": "code",
     "collapsed": false,
     "input": [
      "from sklearn.linear_model import Perceptron\n",
      "\n",
      "model = predict(X,Y,[  ('normalizador', StandardScaler()), ('modelolineal', Perceptron())])\n"
     ],
     "language": "python",
     "metadata": {},
     "outputs": [
      {
       "output_type": "stream",
       "stream": "stdout",
       "text": [
        "0.8375\n"
       ]
      }
     ],
     "prompt_number": 145
    },
    {
     "cell_type": "code",
     "collapsed": false,
     "input": [
      "from sklearn.ensemble import RandomForestClassifier\n",
      "\n",
      "model = predict(X,Y,[ ('modelolineal', RandomForestClassifier() )])\n"
     ],
     "language": "python",
     "metadata": {},
     "outputs": [
      {
       "output_type": "stream",
       "stream": "stdout",
       "text": [
        "0.82\n"
       ]
      }
     ],
     "prompt_number": 147
    },
    {
     "cell_type": "code",
     "collapsed": false,
     "input": [
      "from sklearn.ensemble import ExtraTreesClassifier\n",
      "\n",
      "\n",
      "model = predict(X,Y,[ ('modelolineal', ExtraTreesClassifier())])\n"
     ],
     "language": "python",
     "metadata": {},
     "outputs": [
      {
       "output_type": "stream",
       "stream": "stdout",
       "text": [
        "0.86\n"
       ]
      }
     ],
     "prompt_number": 148
    },
    {
     "cell_type": "code",
     "collapsed": false,
     "input": [
      "from sklearn.neighbors import KNeighborsClassifier, RadiusNeighborsClassifier\n",
      "\n",
      "model = predict(X,Y,[ ('normalizador', StandardScaler()),('modelolineal', KNeighborsClassifier())])\n"
     ],
     "language": "python",
     "metadata": {},
     "outputs": [
      {
       "output_type": "stream",
       "stream": "stdout",
       "text": [
        "0.8225\n"
       ]
      }
     ],
     "prompt_number": 149
    },
    {
     "cell_type": "code",
     "collapsed": false,
     "input": [
      "from sklearn.naive_bayes import MultinomialNB, BernoulliNB\n",
      "\n",
      "model = predict(X,Y,[ ('modelolineal', MultinomialNB())])\n"
     ],
     "language": "python",
     "metadata": {},
     "outputs": [
      {
       "output_type": "stream",
       "stream": "stdout",
       "text": [
        "0.8325\n"
       ]
      }
     ],
     "prompt_number": 150
    },
    {
     "cell_type": "code",
     "collapsed": false,
     "input": [
      "#reducing dimen\n",
      "from sklearn.decomposition import RandomizedPCA\n",
      "n_eigenfaces = 25\n",
      "\n",
      "pca = RandomizedPCA(n_components=n_eigenfaces, whiten=True)\n",
      "features = pca.fit_transform(faces.data)\n",
      "\n",
      "model = predict(features,Y,[ ('modelolineal', KNeighborsClassifier())])\n"
     ],
     "language": "python",
     "metadata": {},
     "outputs": [
      {
       "output_type": "stream",
       "stream": "stdout",
       "text": [
        "0.905\n"
       ]
      }
     ],
     "prompt_number": 155
    },
    {
     "cell_type": "code",
     "collapsed": false,
     "input": [
      "\n",
      "model = predict(features,Y,[ ('normalizador', StandardScaler()), ('modelolineal', SGDClassifier(average=True))])\n"
     ],
     "language": "python",
     "metadata": {},
     "outputs": [
      {
       "output_type": "stream",
       "stream": "stdout",
       "text": [
        "0.9025\n"
       ]
      }
     ],
     "prompt_number": 156
    },
    {
     "cell_type": "code",
     "collapsed": false,
     "input": [
      "model = predict(X,Y,[ ('normalizador', StandardScaler()), ('modelolineal', SGDClassifier(average=True))], cv=5)\n",
      "model.fit(X_train, y_train)\n",
      "y_pred=model.predict(X_test)   \n",
      "\n",
      "from sklearn import metrics\n",
      "\n",
      "metrics.accuracy_score(y_test,y_pred)"
     ],
     "language": "python",
     "metadata": {},
     "outputs": [
      {
       "output_type": "stream",
       "stream": "stdout",
       "text": [
        "0.915\n"
       ]
      },
      {
       "metadata": {},
       "output_type": "pyout",
       "prompt_number": 161,
       "text": [
        "0.93000000000000005"
       ]
      }
     ],
     "prompt_number": 161
    },
    {
     "cell_type": "code",
     "collapsed": false,
     "input": [
      "print metrics.classification_report(y_test,y_pred)"
     ],
     "language": "python",
     "metadata": {},
     "outputs": [
      {
       "output_type": "stream",
       "stream": "stdout",
       "text": [
        "             precision    recall  f1-score   support\n",
        "\n",
        "          0       1.00      0.40      0.57         5\n",
        "          1       1.00      1.00      1.00         1\n",
        "          3       1.00      1.00      1.00         3\n",
        "          4       0.50      1.00      0.67         1\n",
        "          5       1.00      1.00      1.00         1\n",
        "          6       1.00      1.00      1.00         3\n",
        "          7       1.00      1.00      1.00         3\n",
        "          8       1.00      1.00      1.00         1\n",
        "          9       1.00      1.00      1.00         2\n",
        "         10       0.50      1.00      0.67         1\n",
        "         11       0.50      1.00      0.67         1\n",
        "         12       1.00      0.50      0.67         2\n",
        "         13       1.00      1.00      1.00         1\n",
        "         14       1.00      1.00      1.00         3\n",
        "         15       1.00      1.00      1.00         2\n",
        "         17       0.40      1.00      0.57         2\n",
        "         18       1.00      1.00      1.00         2\n",
        "         19       1.00      1.00      1.00         3\n",
        "         20       1.00      1.00      1.00         2\n",
        "         21       1.00      1.00      1.00         2\n",
        "         22       1.00      1.00      1.00         2\n",
        "         23       1.00      1.00      1.00         2\n",
        "         24       1.00      0.75      0.86         4\n",
        "         25       0.50      1.00      0.67         1\n",
        "         26       1.00      1.00      1.00         4\n",
        "         27       1.00      1.00      1.00         4\n",
        "         28       1.00      1.00      1.00         2\n",
        "         29       1.00      0.75      0.86         4\n",
        "         30       1.00      0.83      0.91         6\n",
        "         31       1.00      1.00      1.00         1\n",
        "         32       1.00      1.00      1.00         4\n",
        "         33       1.00      1.00      1.00         4\n",
        "         34       1.00      1.00      1.00         4\n",
        "         35       1.00      1.00      1.00         3\n",
        "         36       1.00      1.00      1.00         5\n",
        "         37       1.00      1.00      1.00         2\n",
        "         38       1.00      1.00      1.00         4\n",
        "         39       1.00      1.00      1.00         3\n",
        "\n",
        "avg / total       0.97      0.93      0.93       100\n",
        "\n"
       ]
      }
     ],
     "prompt_number": 162
    },
    {
     "cell_type": "code",
     "collapsed": false,
     "input": [
      "print metrics.confusion_matrix(y_test,y_pred)"
     ],
     "language": "python",
     "metadata": {},
     "outputs": [
      {
       "output_type": "stream",
       "stream": "stdout",
       "text": [
        "[[2 0 0 ..., 0 0 0]\n",
        " [0 1 0 ..., 0 0 0]\n",
        " [0 0 3 ..., 0 0 0]\n",
        " ..., \n",
        " [0 0 0 ..., 2 0 0]\n",
        " [0 0 0 ..., 0 4 0]\n",
        " [0 0 0 ..., 0 0 3]]\n"
       ]
      }
     ],
     "prompt_number": 163
    },
    {
     "cell_type": "code",
     "collapsed": false,
     "input": [],
     "language": "python",
     "metadata": {},
     "outputs": []
    }
   ],
   "metadata": {}
  }
 ]
}