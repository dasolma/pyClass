{
 "metadata": {
  "name": "",
  "signature": "sha256:e7a1d3d98f38aca46c61101ec79047359324c915fbf90998577d8edf74646cb3"
 },
 "nbformat": 3,
 "nbformat_minor": 0,
 "worksheets": [
  {
   "cells": [
    {
     "cell_type": "code",
     "collapsed": false,
     "input": [
      "import numpy as np\n",
      "import urllib\n",
      "import pandas as pd\n",
      "url = \"http://biostat.mc.vanderbilt.edu/wiki/pub/Main/DataSets/titanic3.csv\"\n",
      "\n",
      "# download the file\n",
      "raw_data = urllib.urlopen(url)\n",
      "print raw_data\n",
      "\n",
      "# load the CSV file as a numpy matrix\n",
      "dataset = pd.read_csv(raw_data, delimiter=\",\", \n",
      "                     dtype={'names': (\"pclass\",\"survived\",\"name\",\"sex\",\"age\",\"sibsp\",\"parch\",\"ticket\",\"fare\",\"cabin\",\"embarked\",\"boat\",\"body\",\"home.dest\"),\n",
      "                             'formats': ('i4', 'i4', 'S100', 'S100', 'S100', 'S100', 'f4', 'f4', 'S100',  'S100', 'S100', 'S100', 'S100', 'S100')})\n",
      "\n"
     ],
     "language": "python",
     "metadata": {},
     "outputs": [
      {
       "output_type": "stream",
       "stream": "stdout",
       "text": [
        "<addinfourl at 140629631015680 whose fp = <socket._fileobject object at 0x7fe6e33497d0>>\n"
       ]
      }
     ],
     "prompt_number": 55
    },
    {
     "cell_type": "code",
     "collapsed": false,
     "input": [
      "# split the data from the target attributes    \n",
      "X_names = [\"pclass\",\"sex\",\"age\"]\n",
      "X = np.array(dataset[X_names]).transpose()\n",
      "y = np.array(dataset.survived)\n",
      "\n",
      "# for use decision trees the data must be numerical\n",
      "X[1] = [0 if x == 'female' else 1 for x in X[1]]\n",
      "\n",
      "#replace nan's by the mean\n",
      "mean = np.nanmean(np.array([x for x in X[2] if x != np.nan]))\n",
      "X[2] = [mean if  np.isnan(x) else x for x in X[2]]\n",
      "\n",
      "\n",
      "X = np.array(X).transpose()\n",
      "print X\n",
      "print y\n",
      "\n",
      "from sklearn.cross_validation import train_test_split\n",
      "X_train, X_test, y_train, y_test = train_test_split(X, Y, test_size=0.25, random_state=33)"
     ],
     "language": "python",
     "metadata": {},
     "outputs": [
      {
       "output_type": "stream",
       "stream": "stdout",
       "text": [
        "[[1 0 29.0]\n",
        " [1 1 0.92]\n",
        " [1 0 2.0]\n",
        " ..., \n",
        " [3 1 26.5]\n",
        " [3 1 27.0]\n",
        " [3 1 29.0]]\n",
        "[1 1 0 ..., 0 0 0]\n"
       ]
      }
     ],
     "prompt_number": 251
    },
    {
     "cell_type": "code",
     "collapsed": false,
     "input": [
      "#build the tree\n",
      "from sklearn.tree import DecisionTreeClassifier, export_graphviz\n",
      "\n",
      "mytree = DecisionTreeClassifier(criterion='entropy', max_depth=3, min_samples_leaf=5)\n",
      "\n",
      "mytree.fit(X_train,y_train)"
     ],
     "language": "python",
     "metadata": {},
     "outputs": [
      {
       "metadata": {},
       "output_type": "pyout",
       "prompt_number": 252,
       "text": [
        "DecisionTreeClassifier(class_weight=None, criterion='entropy', max_depth=3,\n",
        "            max_features=None, max_leaf_nodes=None, min_samples_leaf=5,\n",
        "            min_samples_split=2, min_weight_fraction_leaf=0.0,\n",
        "            random_state=None, splitter='best')"
       ]
      }
     ],
     "prompt_number": 252
    },
    {
     "cell_type": "code",
     "collapsed": false,
     "input": [
      "export_graphviz(mytree, feature_names=X_names, out_file=\"titanic.dot\")\n",
      "from graphviz import Digraph\n",
      "\n",
      "dot = Digraph(comment='Titanic dicision tree', format='png')\n",
      "dot.render('titanic.dot', view=True)"
     ],
     "language": "python",
     "metadata": {},
     "outputs": [
      {
       "metadata": {},
       "output_type": "pyout",
       "prompt_number": 253,
       "text": [
        "'titanic.dot.png'"
       ]
      }
     ],
     "prompt_number": 253
    },
    {
     "cell_type": "code",
     "collapsed": false,
     "input": [
      "from sklearn import cross_validation, metrics\n",
      "predicted = cross_validation.cross_val_predict(mytree, X, y, cv=30)\n",
      "print metrics.accuracy_score(y, predicted)"
     ],
     "language": "python",
     "metadata": {},
     "outputs": [
      {
       "output_type": "stream",
       "stream": "stdout",
       "text": [
        "0.791443850267\n"
       ]
      }
     ],
     "prompt_number": 254
    },
    {
     "cell_type": "code",
     "collapsed": false,
     "input": [
      "from sklearn import metrics\n",
      "y_pred=mytree.predict(X_test)   \n",
      "\n",
      "metrics.accuracy_score(y_test,y_pred)"
     ],
     "language": "python",
     "metadata": {},
     "outputs": [
      {
       "metadata": {},
       "output_type": "pyout",
       "prompt_number": 255,
       "text": [
        "0.82012195121951215"
       ]
      }
     ],
     "prompt_number": 255
    },
    {
     "cell_type": "code",
     "collapsed": false,
     "input": [
      "print metrics.classification_report(y_test,y_pred)"
     ],
     "language": "python",
     "metadata": {},
     "outputs": [
      {
       "output_type": "stream",
       "stream": "stdout",
       "text": [
        "             precision    recall  f1-score   support\n",
        "\n",
        "          0       0.72      0.94      0.82       195\n",
        "          1       0.85      0.46      0.60       133\n",
        "\n",
        "avg / total       0.77      0.75      0.73       328\n",
        "\n"
       ]
      }
     ],
     "prompt_number": 228
    },
    {
     "cell_type": "code",
     "collapsed": false,
     "input": [
      "print metrics.confusion_matrix(y_test,y_pred)"
     ],
     "language": "python",
     "metadata": {},
     "outputs": [
      {
       "output_type": "stream",
       "stream": "stdout",
       "text": [
        "[[184  11]\n",
        " [ 72  61]]\n"
       ]
      }
     ],
     "prompt_number": 229
    },
    {
     "cell_type": "code",
     "collapsed": false,
     "input": [],
     "language": "python",
     "metadata": {},
     "outputs": []
    }
   ],
   "metadata": {}
  }
 ]
}